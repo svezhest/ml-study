{
 "cells": [
  {
   "cell_type": "code",
   "execution_count": 55,
   "metadata": {
    "collapsed": true
   },
   "outputs": [
    {
     "name": "stderr",
     "output_type": "stream",
     "text": [
      "/var/folders/rq/sg13x7f91f9b_m60s_21b_540000gn/T/ipykernel_9822/2785111518.py:20: VisibleDeprecationWarning: Creating an ndarray from ragged nested sequences (which is a list-or-tuple of lists-or-tuples-or ndarrays with different lengths or shapes) is deprecated. If you meant to do this, you must specify 'dtype=object' when creating the ndarray.\n",
      "  datasets = np.array(datasets)\n"
     ]
    }
   ],
   "source": [
    "import numpy as np\n",
    "import os\n",
    "from math import log\n",
    "\n",
    "path = \"messages\"\n",
    "\n",
    "datasets = []\n",
    "for dataset in os.scandir(path):\n",
    "    if not dataset.is_dir():\n",
    "        continue\n",
    "    datasets.append([])\n",
    "    for file_name in os.scandir(f\"{path}/{dataset.name}\"):\n",
    "        label = 0 if \"spmsg\" in file_name.name else 1\n",
    "        file = open(file_name, \"r\")\n",
    "        subject = list(map(int, file.readline().split()[1::]))\n",
    "        file.readline()\n",
    "        content = list(map(int, file.readline().split()))\n",
    "        datasets[len(datasets) - 1].append((label, subject, content))\n",
    "\n",
    "datasets = np.array(datasets)"
   ]
  },
  {
   "cell_type": "code",
   "execution_count": 60,
   "outputs": [],
   "source": [
    "CLASSES = 2\n",
    "eps = 1e-4\n",
    "\n",
    "def email_to_words(n, subject, content):\n",
    "    words = set()\n",
    "    for i in range(len(subject) - n + 1):\n",
    "        n_gram = \" \".join(list(map(str, subject[i : (i + n)])))\n",
    "        words.add(n_gram)\n",
    "\n",
    "    for i in range(len(content) - n + 1):\n",
    "        n_gram = \" \".join(list(map(str, content[i : (i + n)])))\n",
    "        words.add(n_gram)\n",
    "\n",
    "    return words\n",
    "\n",
    "def calc_n_grams(dataset, n):\n",
    "    n_grams = {\n",
    "        0: {},\n",
    "        1: {}\n",
    "    }\n",
    "    label_freq = [0] * CLASSES\n",
    "    vocab = set()\n",
    "    for (label, subject, content) in dataset:\n",
    "        label_freq[label] += 1\n",
    "        words = email_to_words(n, subject, content)\n",
    "        for word in words:\n",
    "            n_grams[label][word] = n_grams[label].get(word, 0) + 1\n",
    "            vocab.add(word)\n",
    "\n",
    "    return n_grams, label_freq, vocab\n",
    "\n",
    "def bayes(alpha, n, lambdas, train_dataset, test_dataset):\n",
    "    n_grams, label_freq, words = calc_n_grams(train_dataset, n)\n",
    "\n",
    "    p = [0] * CLASSES\n",
    "\n",
    "    for label in range(CLASSES):\n",
    "        denominator = label_freq[label] + 2 * alpha\n",
    "        prob = [0] * len(words)\n",
    "        i = 0\n",
    "        for word in words:\n",
    "            prob[i] = (n_grams[label].get(word, 0) + alpha) / denominator\n",
    "            i += 1\n",
    "        p[label] = prob\n",
    "\n",
    "    y_preds = []\n",
    "    for (label, subject, content) in test_dataset:\n",
    "        x = email_to_words(n, subject, content)\n",
    "        values = [0] * CLASSES\n",
    "        for y in range(CLASSES):\n",
    "            p_xy = 0\n",
    "            i = 0\n",
    "            for word in words:\n",
    "                if word in x:\n",
    "                    p_xy += log(p[y][i])\n",
    "                else:\n",
    "                    p_xy += log(1 - p[y][i])\n",
    "                i += 1\n",
    "            values[y] = log(lambdas[y]) + log(label_freq[y] / n) + p_xy\n",
    "        sm = 0\n",
    "        max_ln = max(values)\n",
    "        for y in range(CLASSES):\n",
    "            if abs(values[y]) <= eps:\n",
    "                values[y] = 0\n",
    "                continue\n",
    "            values[y] = np.exp(values[y] - max_ln)\n",
    "            sm += values[y]\n",
    "\n",
    "        for y in range(CLASSES):\n",
    "            values[y] /= sm\n",
    "\n",
    "        y_pred = np.array(values).argmax()\n",
    "        y_preds.append(y_pred)\n",
    "\n",
    "    return y_preds"
   ],
   "metadata": {
    "collapsed": false,
    "pycharm": {
     "name": "#%%\n"
    }
   }
  },
  {
   "cell_type": "code",
   "execution_count": 61,
   "outputs": [],
   "source": [
    "from sklearn.model_selection import KFold\n",
    "\n",
    "def run_bayes(alpha, n, lambdas):\n",
    "    kf = KFold(n_splits=10)\n",
    "    accuracies = []\n",
    "    classified_legit_as_spam = False\n",
    "    for train_index, test_index in kf.split(datasets):\n",
    "        test_dataset = datasets[test_index[0]]\n",
    "        train_dataset = []\n",
    "        for i in train_index:\n",
    "            train_dataset.extend(datasets[i])\n",
    "        train_dataset = np.array(train_dataset)\n",
    "        y_preds = bayes(alpha, n, lambdas, train_dataset, test_dataset)\n",
    "        correct = 0\n",
    "        for i in range(len(test_dataset)):\n",
    "            label = test_dataset[i][0]\n",
    "            y_pred = y_preds[i]\n",
    "            if label == y_pred:\n",
    "                correct += 1\n",
    "            if y_pred == 0 and label == 1:\n",
    "                classified_legit_as_spam = True\n",
    "        accuracies.append(correct / len(test_dataset))\n",
    "\n",
    "    return np.array(accuracies).mean(), classified_legit_as_spam"
   ],
   "metadata": {
    "collapsed": false,
    "pycharm": {
     "name": "#%%\n"
    }
   }
  },
  {
   "cell_type": "code",
   "execution_count": null,
   "outputs": [
    {
     "name": "stdout",
     "output_type": "stream",
     "text": [
      "alpha: 3.9595586114287164e-09\n",
      "  n: 1\n",
      "    lambda deg: 50\n",
      "    classified legit as spam: True, accuracy: 0.8825688073394498\n",
      "    lambda deg: 70\n",
      "    classified legit as spam: False, accuracy: 0.8357798165137614\n",
      "  n: 2\n",
      "    lambda deg: 50\n",
      "    classified legit as spam: True, accuracy: 0.9513761467889909\n",
      "    lambda deg: 70\n",
      "    classified legit as spam: True, accuracy: 0.9449541284403671\n",
      "    lambda deg: 90\n",
      "    classified legit as spam: True, accuracy: 0.9330275229357798\n",
      "    lambda deg: 110\n",
      "    classified legit as spam: True, accuracy: 0.9238532110091745\n",
      "    lambda deg: 130\n",
      "    classified legit as spam: True, accuracy: 0.9091743119266056\n",
      "    lambda deg: 150\n",
      "    classified legit as spam: True, accuracy: 0.9009174311926605\n",
      "    lambda deg: 170\n",
      "    classified legit as spam: True, accuracy: 0.8963302752293579\n",
      "    lambda deg: 190\n",
      "    classified legit as spam: True, accuracy: 0.8908256880733945\n",
      "  n: 3\n",
      "    lambda deg: 50\n",
      "    classified legit as spam: True, accuracy: 0.9266055045871561\n",
      "    lambda deg: 70\n",
      "    classified legit as spam: True, accuracy: 0.91651376146789\n",
      "    lambda deg: 90\n",
      "    classified legit as spam: True, accuracy: 0.9082568807339451\n",
      "    lambda deg: 110\n",
      "    classified legit as spam: True, accuracy: 0.8990825688073395\n",
      "    lambda deg: 130\n",
      "    classified legit as spam: True, accuracy: 0.8917431192660551\n",
      "    lambda deg: 150\n",
      "    classified legit as spam: False, accuracy: 0.8871559633027524\n",
      "alpha: 7.464836281650801e-09\n",
      "  n: 1\n",
      "    lambda deg: 50\n",
      "    classified legit as spam: True, accuracy: 0.8770642201834864\n",
      "    lambda deg: 70\n",
      "    classified legit as spam: False, accuracy: 0.8339449541284404\n",
      "  n: 2\n",
      "    lambda deg: 50\n",
      "    classified legit as spam: True, accuracy: 0.9513761467889909\n",
      "    lambda deg: 70\n",
      "    classified legit as spam: True, accuracy: 0.9431192660550458\n",
      "    lambda deg: 90\n",
      "    classified legit as spam: True, accuracy: 0.9321100917431193\n",
      "    lambda deg: 110\n",
      "    classified legit as spam: True, accuracy: 0.9201834862385322\n",
      "    lambda deg: 130\n",
      "    classified legit as spam: True, accuracy: 0.9064220183486238\n",
      "    lambda deg: 150\n",
      "    classified legit as spam: True, accuracy: 0.8990825688073395\n",
      "    lambda deg: 170\n",
      "    classified legit as spam: True, accuracy: 0.8944954128440367\n",
      "    lambda deg: 190\n",
      "    classified legit as spam: True, accuracy: 0.8899082568807339\n",
      "  n: 3\n",
      "    lambda deg: 50\n",
      "    classified legit as spam: True, accuracy: 0.9247706422018348\n",
      "    lambda deg: 70\n",
      "    classified legit as spam: True, accuracy: 0.91651376146789\n",
      "    lambda deg: 90\n"
     ]
    }
   ],
   "source": [
    "EPOCHS = 2\n",
    "DEG_START = 50\n",
    "DEG_STEP = 20\n",
    "DEG_ITERS = 8\n",
    "\n",
    "best_accuracy = 0\n",
    "best_params = ()\n",
    "for i in range(EPOCHS):\n",
    "    alpha = 10 ** (np.random.uniform(-9, -5))\n",
    "    print(f\"alpha: {alpha}\")\n",
    "    for n in range(1, 4):\n",
    "        print(f\"  n: {n}\")\n",
    "        lambdas = [1, 0]\n",
    "        found_lambda = False\n",
    "        deg = DEG_START\n",
    "        while not found_lambda and deg < (DEG_START + DEG_ITERS * DEG_STEP):\n",
    "            lambdas[1] = 10 ** deg\n",
    "            print(f\"    lambda deg: {deg}\")\n",
    "            accuracy, classified_legit_as_spam = run_bayes(alpha, n, lambdas)\n",
    "            print(f\"    classified legit as spam: {classified_legit_as_spam}, accuracy: {accuracy}\")\n",
    "            if not classified_legit_as_spam and accuracy > best_accuracy:\n",
    "                best_accuracy = accuracy\n",
    "                best_params = (alpha, n, *lambdas)\n",
    "            found_lambda = not classified_legit_as_spam\n",
    "            deg += DEG_STEP"
   ],
   "metadata": {
    "collapsed": false,
    "pycharm": {
     "name": "#%%\n",
     "is_executing": true
    }
   }
  },
  {
   "cell_type": "code",
   "execution_count": 59,
   "outputs": [
    {
     "name": "stdout",
     "output_type": "stream",
     "text": [
      "best accuracy: 0.8871559633027524\n",
      "alpha: 3.9595586114287164e-09, n: 3, lambda_spam: 1, lambda_legit: 1000000000000000000000000000000000000000000000000000000000000000000000000000000000000000000000000000000000000000000000000000000000000000000000000000000\n"
     ]
    }
   ],
   "source": [
    "print(f\"best accuracy: {best_accuracy}\")\n",
    "print(f\"alpha: {best_params[0]}, n: {best_params[1]}, lambda_spam: {best_params[2]}, lambda_legit: {best_params[3]}\")\n",
    "\n"
   ],
   "metadata": {
    "collapsed": false,
    "pycharm": {
     "name": "#%%\n"
    }
   }
  },
  {
   "cell_type": "code",
   "execution_count": 65,
   "outputs": [
    {
     "name": "stdout",
     "output_type": "stream",
     "text": [
      "AUC = 0.87\n"
     ]
    },
    {
     "data": {
      "text/plain": "<Figure size 432x288 with 1 Axes>",
      "image/png": "[encoded data removed]"
     },
     "metadata": {},
     "output_type": "display_data"
    }
   ],
   "source": [
    "import sklearn.metrics as metrics\n",
    "import matplotlib.pyplot as plt\n",
    "plt.style.use({'figure.facecolor':'white'})\n",
    "\n",
    "alpha, n, lambda_spam, lambda_legit = best_params\n",
    "lambdas = [lambda_spam, lambda_legit]\n",
    "\n",
    "kf = KFold(n_splits=10)\n",
    "y_preds = []\n",
    "labels = []\n",
    "for train_index, test_index in kf.split(datasets):\n",
    "    test_dataset = datasets[test_index[0]]\n",
    "    train_dataset = []\n",
    "    for i in train_index:\n",
    "        train_dataset.extend(datasets[i])\n",
    "    train_dataset = np.array(train_dataset)\n",
    "    y_preds.extend(bayes(alpha, n, lambdas, train_dataset, test_dataset))\n",
    "    labels.extend(list(map(lambda tp: tp[0], test_dataset)))\n",
    "\n",
    "fpr, tpr, _ = metrics.roc_curve(labels, y_preds)\n",
    "roc_auc = metrics.auc(fpr, tpr)\n",
    "print('AUC = %0.2f' % roc_auc)\n",
    "\n",
    "plt.title('Receiver Operating Characteristic')\n",
    "plt.plot(fpr, tpr, 'b')\n",
    "plt.ylabel('True Positive Rate')\n",
    "plt.xlabel('False Positive Rate')\n",
    "plt.show()\n"
   ],
   "metadata": {
    "collapsed": false,
    "pycharm": {
     "name": "#%%\n"
    }
   }
  },
  {
   "cell_type": "code",
   "execution_count": 66,
   "outputs": [],
   "source": [
    "xs = []\n",
    "accuracies = []\n",
    "curr_lambda = lambda_spam\n",
    "while curr_lambda <= lambda_legit:\n",
    "    xs.append(curr_lambda)\n",
    "    accuracies.append(run_bayes(alpha, n, [lambda_spam, curr_lambda]))\n",
    "    curr_lambda = curr_lambda * (10 ** 30)\n",
    "    \n",
    "accuracies = list(map(lambda pr: pr[0], accuracies))"
   ],
   "metadata": {
    "collapsed": false,
    "pycharm": {
     "name": "#%%\n"
    }
   }
  },
  {
   "cell_type": "code",
   "execution_count": 71,
   "outputs": [
    {
     "data": {
      "text/plain": "<Figure size 432x288 with 1 Axes>",
      "image/png": "[encoded data removed]"
     },
     "metadata": {},
     "output_type": "display_data"
    }
   ],
   "source": [
    "plt.plot(xs, accuracies, \"b\")\n",
    "plt.xlabel(\"lambda legit\")\n",
    "plt.ylabel(\"accuracy\")\n",
    "plt.show()\n"
   ],
   "metadata": {
    "collapsed": false,
    "pycharm": {
     "name": "#%%\n"
    }
   }
  }
 ],
 "metadata": {
  "kernelspec": {
   "display_name": "Python 3",
   "language": "python",
   "name": "python3"
  },
  "language_info": {
   "codemirror_mode": {
    "name": "ipython",
    "version": 2
   },
   "file_extension": ".py",
   "mimetype": "text/x-python",
   "name": "python",
   "nbconvert_exporter": "python",
   "pygments_lexer": "ipython2",
   "version": "2.7.6"
  }
 },
 "nbformat": 4,
 "nbformat_minor": 0
}