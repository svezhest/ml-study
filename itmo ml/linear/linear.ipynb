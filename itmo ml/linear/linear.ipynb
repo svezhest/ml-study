{
  "cells": [
    {
      "cell_type": "code",
      "execution_count": 258,
      "metadata": {
        "id": "sTHq9afU4kZG"
      },
      "outputs": [],
      "source": [
        "import numpy as np\n",
        "import pandas as pd\n",
        "import statistics\n",
        "import matplotlib.pyplot as plt\n",
        "from numpy import linalg as LA\n",
        "import math\n",
        "from tqdm import tqdm\n",
        "import random"
      ]
    },
    {
      "cell_type": "code",
      "execution_count": 259,
      "metadata": {
        "id": "dcRtTMlfbVoP"
      },
      "outputs": [],
      "source": [
        "def normalize(df):\n",
        "    minn = list()\n",
        "    diff = list()\n",
        "    for i in range(len(df[0])):\n",
        "        minn.append(df[:, i].min())\n",
        "        diff.append(df[:, i].max() - minn[i])\n",
        "    for i in range(len(df)):\n",
        "        for j in range(len(df[i])):\n",
        "            if diff[j] == 0:\n",
        "              df[i][j] = 0\n",
        "            else:\n",
        "              df[i][j] = (df[i][j] - minn[j]) / diff[j]\n",
        "    return df"
      ]
    },
    {
      "cell_type": "code",
      "execution_count": 260,
      "metadata": {
        "id": "5f0YMyYchVJL"
      },
      "outputs": [],
      "source": [
        "from pandas.core.common import random_state\n",
        "f = open(\"1.txt\")\n",
        "m = int(f.readline())\n",
        "n = int(f.readline())\n",
        "df = []\n",
        "for i in range(n):\n",
        "  df.append(list(map(float, (f.readline().split()))))\n",
        "df = normalize(np.array(df))\n",
        "np.random.shuffle(df)\n",
        "X = [df[i][:-1] for i in range(len(df))]\n",
        "Y = [df[i][-1] for i in range(len(df))]\n",
        "\n",
        "n_test = int(f.readline())\n",
        "df_test = []\n",
        "for i in range(n_test):\n",
        "  df_test.append(list(map(float, (f.readline().split()))))\n",
        "df_test = normalize(np.array(df_test))\n",
        "np.random.shuffle(df_test)\n",
        "X_test = np.array([df_test[i][:-1] for i in range(len(df_test))])\n",
        "Y_test = np.array([df_test[i][-1] for i in range(len(df_test))])\n"
      ]
    },
    {
      "cell_type": "code",
      "execution_count": 261,
      "metadata": {
        "id": "z5gNMcu_rQlE"
      },
      "outputs": [],
      "source": [
        "def smape(y, y_real):\n",
        "  return np.mean(abs(y - y_real) / (abs(y) + abs(y_real)))\n",
        "def mse(y, y_real):\n",
        "  return np.mean((y - y_real) ** 2)\n",
        "def nrmse(y, y_real):\n",
        "  return np.sqrt(mse(y, y_real)) / np.mean(y_real)"
      ]
    },
    {
      "cell_type": "code",
      "execution_count": 262,
      "metadata": {
        "id": "SjPqZSNWO1v8"
      },
      "outputs": [],
      "source": [
        "def matrix_psevdo(xs, y, l):\n",
        "  return np.matmul(np.matmul(\n",
        "      LA.inv(np.matmul(np.array(xs).T, xs) + (1 / l) * np.eye(len(xs[0]))), \n",
        "      np.array(xs).T)\n",
        "    , y)"
      ]
    },
    {
      "cell_type": "code",
      "execution_count": 263,
      "metadata": {
        "id": "Qh6AG3QuGE1Z"
      },
      "outputs": [],
      "source": [
        "max_iter = 2000\n",
        "eps = 0.0000001\n",
        "\n",
        "def d_mse(y, pred):\n",
        "  return 2 * (y - pred)\n",
        "\n",
        "def part_mse(y, pred):\n",
        "  return (pred - y) ** 2\n",
        "\n",
        "def d_smape(y, pred):\n",
        "  denom = (abs(pred * (pred - y)) * ((abs(pred) + abs(y)) ** 2))\n",
        "  if denom != 0:\n",
        "    return (y - pred) * ((abs(pred * y) + pred * y)) / denom\n",
        "  else:\n",
        "    return 0\n",
        "\n",
        "def part_smape(y, pred):\n",
        "  return abs(pred - y) / ((abs(pred) + abs(y)))\n",
        "\n",
        "\n",
        "# h - шаг, alpha - скорость затухания (ema dL)\n",
        "def sgd(xs, y, alpha, h, l, part_fun, d_fun, write_log):\n",
        "  xs_copy = np.insert(xs, 0, values=np.ones(len(xs)), axis=1)\n",
        "  attrs = len(xs_copy[0])\n",
        "  weights = np.random.uniform(-1 / (2 * attrs), 1 / (2 * attrs), attrs)\n",
        "\n",
        "  if write_log:\n",
        "    ema_log = [np.mean(np.array([part_fun(np.dot(xs_copy[i], weights), y[i]) for i in range(len(xs_copy))]))]\n",
        "  else:\n",
        "    ema_log = []\n",
        "\n",
        "  d_fun_ema = np.zeros(attrs)\n",
        "\n",
        "  for i in range(max_iter):\n",
        "    ind = random.randint(0, len(xs_copy) - 1) \n",
        "    xi = np.array(xs_copy[ind])\n",
        "    yi = y[ind]\n",
        "    pred = np.dot(weights, xi)\n",
        "    if write_log:\n",
        "      er = part_fun(pred, yi)\n",
        "      ema_log.append(alpha * er + (1 - alpha) * ema_log[-1])\n",
        "    d_fun_ema = alpha * d_fun(pred, yi) * xi + (1 - alpha) * d_fun_ema\n",
        "    old_weights = weights\n",
        "    weights = weights * (1 - h * l) - h * d_fun_ema\n",
        "\n",
        "    if (np.linalg.norm(weights - old_weights) < eps):\n",
        "      break\n",
        "\n",
        "  return weights[1:], ema_log"
      ]
    },
    {
      "cell_type": "code",
      "execution_count": 264,
      "metadata": {},
      "outputs": [
        {
          "data": {
            "text/plain": [
              "[<matplotlib.lines.Line2D at 0x143699a2b00>]"
            ]
          },
          "execution_count": 264,
          "metadata": {},
          "output_type": "execute_result"
        },
        {
          "data": {
            "image/png": "[encoded data removed]",
            "text/plain": [
              "<Figure size 432x288 with 1 Axes>"
            ]
          },
          "metadata": {
            "needs_background": "light"
          },
          "output_type": "display_data"
        }
      ],
      "source": [
        "ans, log = sgd(X, Y, 0.01, 0.00001, 0.1, part_mse, d_mse, True)\n",
        "plt.plot(np.array(list(range(len(log)))), log)"
      ]
    },
    {
      "cell_type": "code",
      "execution_count": 265,
      "metadata": {},
      "outputs": [
        {
          "data": {
            "text/plain": [
              "[<matplotlib.lines.Line2D at 0x143652cb580>]"
            ]
          },
          "execution_count": 265,
          "metadata": {},
          "output_type": "execute_result"
        },
        {
          "data": {
            "image/png": "[encoded data removed]",
            "text/plain": [
              "<Figure size 432x288 with 1 Axes>"
            ]
          },
          "metadata": {
            "needs_background": "light"
          },
          "output_type": "display_data"
        }
      ],
      "source": [
        "ans, log = sgd(X, Y, 0.01, 0.0001, 0.1, part_smape, d_smape, True)\n",
        "plt.plot(np.array(list(range(len(log)))), log)"
      ]
    },
    {
      "cell_type": "code",
      "execution_count": 266,
      "metadata": {},
      "outputs": [],
      "source": [
        "alphas = sorted([np.exp(random.uniform(-9.0, -3.0)) for i in range(10)])\n",
        "hs = sorted([np.exp(random.uniform(-17.0, -6.0)) for i in range(10)])\n",
        "ls = sorted([np.exp(random.uniform(-9.0, 0)) for i in range(10)])\n",
        "inf = 100000000000\n",
        "best_matrix = [inf, 0]\n",
        "matrix_log_smape = []\n",
        "matrix_log_mse = []\n",
        "best_smape = [inf, 0, 0, 0]\n",
        "best_mse = [inf, 0, 0, 0]\n",
        "\n",
        "for l in ls:\n",
        "    for h in hs:\n",
        "        for a in alphas:\n",
        "            ans, _ = sgd(X, Y, a, h, l, part_smape, d_smape, False)\n",
        "            ys = np.array([np.dot(ans, X_test[i]) for i in range(len(X_test))])\n",
        "            res = smape(Y_test, ys)\n",
        "            if res < best_smape[0]:\n",
        "                best_smape = [res, a, h, l]\n",
        "            ans, _ = sgd(X, Y, a, h, l, part_mse, d_mse, False)\n",
        "            ys = np.array([np.dot(ans, X_test[i]) for i in range(len(X_test))])\n",
        "            res = mse(Y_test, ys)\n",
        "            if res < best_mse[0]:\n",
        "                best_mse = [res, a, h, l]\n",
        "    ans = matrix_psevdo(X, Y, l)\n",
        "    ys = np.array([np.dot(ans, X_test[i]) for i in range(len(X_test))])\n",
        "    res = smape(Y_test, ys)\n",
        "    if res < best_matrix[0]:\n",
        "        best_matrix = [res, l]\n",
        "    matrix_log_smape.append(res)\n",
        "    res = mse(Y_test, ys)\n",
        "    matrix_log_mse.append(res)"
      ]
    },
    {
      "cell_type": "code",
      "execution_count": 267,
      "metadata": {},
      "outputs": [
        {
          "name": "stdout",
          "output_type": "stream",
          "text": [
            "[0.02452453230702902, 0.17062604559544203]\n",
            "[0.0007549692424971214, 0.008734548083118151, 0.00024451824185733846, 0.00037918390917219527]\n",
            "[0.009471928088457308, 0.021925557847977218, 0.00024451824185733846, 0.02156401157479709]\n"
          ]
        }
      ],
      "source": [
        "print(best_matrix)\n",
        "print(best_mse)\n",
        "print(best_smape)"
      ]
    },
    {
      "cell_type": "code",
      "execution_count": 268,
      "metadata": {},
      "outputs": [
        {
          "data": {
            "text/plain": [
              "[<matplotlib.lines.Line2D at 0x14365303340>]"
            ]
          },
          "execution_count": 268,
          "metadata": {},
          "output_type": "execute_result"
        },
        {
          "data": {
            "image/png": "[encoded data removed]",
            "text/plain": [
              "<Figure size 432x288 with 1 Axes>"
            ]
          },
          "metadata": {
            "needs_background": "light"
          },
          "output_type": "display_data"
        }
      ],
      "source": [
        "plt.plot(ls, matrix_log_mse)"
      ]
    },
    {
      "cell_type": "code",
      "execution_count": 269,
      "metadata": {},
      "outputs": [
        {
          "data": {
            "text/plain": [
              "[<matplotlib.lines.Line2D at 0x1436958e7d0>]"
            ]
          },
          "execution_count": 269,
          "metadata": {},
          "output_type": "execute_result"
        },
        {
          "data": {
            "image/png": "[encoded data removed]",
            "text/plain": [
              "<Figure size 432x288 with 1 Axes>"
            ]
          },
          "metadata": {
            "needs_background": "light"
          },
          "output_type": "display_data"
        }
      ],
      "source": [
        "plt.plot(np.array(list(range(len(matrix_log_mse)))), matrix_log_mse)"
      ]
    },
    {
      "cell_type": "code",
      "execution_count": 270,
      "metadata": {},
      "outputs": [
        {
          "data": {
            "text/plain": [
              "[<matplotlib.lines.Line2D at 0x143695f8730>]"
            ]
          },
          "execution_count": 270,
          "metadata": {},
          "output_type": "execute_result"
        },
        {
          "data": {
            "image/png": "[encoded data removed]",
            "text/plain": [
              "<Figure size 432x288 with 1 Axes>"
            ]
          },
          "metadata": {
            "needs_background": "light"
          },
          "output_type": "display_data"
        }
      ],
      "source": [
        "plt.plot(ls, matrix_log_smape)"
      ]
    },
    {
      "cell_type": "code",
      "execution_count": 271,
      "metadata": {},
      "outputs": [
        {
          "data": {
            "text/plain": [
              "[<matplotlib.lines.Line2D at 0x1436963f640>]"
            ]
          },
          "execution_count": 271,
          "metadata": {},
          "output_type": "execute_result"
        },
        {
          "data": {
            "image/png": "[encoded data removed]",
            "text/plain": [
              "<Figure size 432x288 with 1 Axes>"
            ]
          },
          "metadata": {
            "needs_background": "light"
          },
          "output_type": "display_data"
        }
      ],
      "source": [
        "plt.plot(np.array(list(range(len(matrix_log_smape)))), matrix_log_smape)"
      ]
    },
    {
      "cell_type": "code",
      "execution_count": 273,
      "metadata": {},
      "outputs": [
        {
          "name": "stdout",
          "output_type": "stream",
          "text": [
            "SMAPE smape-based sgd 0.020053611094676918\n",
            "NRMSE smape-based sgd 0.03588534056422354\n",
            "SMAPE mse-based sgd 0.027287226074446266\n",
            "NRMSE mse-based sgd 0.049761188960996086\n",
            "SMAPE matrix 0.02452453230702902\n",
            "NRMSE matrix 0.039699834290968454\n"
          ]
        }
      ],
      "source": [
        "ans, _ = sgd(X, Y, best_smape[1], best_smape[2], best_smape[3], part_smape, d_smape, False)\n",
        "ys = np.array([np.dot(ans, X_test[i]) for i in range(len(X_test))])\n",
        "print('SMAPE smape-based sgd', smape(ys, Y_test))\n",
        "print('NRMSE smape-based sgd', nrmse(ys, Y_test))\n",
        "\n",
        "ans, _ = sgd(X, Y, best_mse[1], best_mse[2], best_mse[3], part_mse, d_mse, False)\n",
        "ys = np.array([np.dot(ans, X_test[i]) for i in range(len(X_test))])\n",
        "print('SMAPE mse-based sgd', smape(ys, Y_test))\n",
        "print('NRMSE mse-based sgd', nrmse(ys, Y_test))\n",
        "\n",
        "ans = matrix_psevdo(X, Y, best_matrix[1])\n",
        "ys = np.array([np.dot(ans, X_test[i]) for i in range(len(X_test))])\n",
        "print('SMAPE matrix', smape(ys, Y_test))\n",
        "print('NRMSE matrix', nrmse(ys, Y_test))"
      ]
    }
  ],
  "metadata": {
    "colab": {
      "collapsed_sections": [],
      "name": "linear.ipynb",
      "provenance": []
    },
    "kernelspec": {
      "display_name": "Python 3",
      "name": "python3"
    },
    "language_info": {
      "codemirror_mode": {
        "name": "ipython",
        "version": 3
      },
      "file_extension": ".py",
      "mimetype": "text/x-python",
      "name": "python",
      "nbconvert_exporter": "python",
      "pygments_lexer": "ipython3",
      "version": "3.10.1"
    }
  },
  "nbformat": 4,
  "nbformat_minor": 0
}
